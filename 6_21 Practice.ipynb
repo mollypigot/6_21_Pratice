{
 "cells": [
  {
   "cell_type": "code",
   "execution_count": 19,
   "id": "37a21a04",
   "metadata": {},
   "outputs": [
    {
     "data": {
      "text/plain": [
       "['I',\n",
       " 'enjoy',\n",
       " 'reading',\n",
       " 'books',\n",
       " 'and',\n",
       " 'watching',\n",
       " 'Marvel',\n",
       " 'movies',\n",
       " 'with',\n",
       " 'my',\n",
       " 'friends']"
      ]
     },
     "execution_count": 19,
     "metadata": {},
     "output_type": "execute_result"
    }
   ],
   "source": [
    "sentence = \"I enjoy reading books and watching Marvel movies with my friends\"\n",
    "\n",
    "def text_tokenizer(sentence):\n",
    "    tokens = sentence.split()\n",
    "    return tokens\n",
    "\n",
    "text_tokenizer(sentence)"
   ]
  }
 ],
 "metadata": {
  "kernelspec": {
   "display_name": "Python 3 (ipykernel)",
   "language": "python",
   "name": "python3"
  },
  "language_info": {
   "codemirror_mode": {
    "name": "ipython",
    "version": 3
   },
   "file_extension": ".py",
   "mimetype": "text/x-python",
   "name": "python",
   "nbconvert_exporter": "python",
   "pygments_lexer": "ipython3",
   "version": "3.10.9"
  }
 },
 "nbformat": 4,
 "nbformat_minor": 5
}
